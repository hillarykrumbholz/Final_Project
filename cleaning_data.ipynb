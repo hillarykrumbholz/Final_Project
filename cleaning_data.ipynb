{
 "cells": [
  {
   "cell_type": "code",
   "execution_count": 1,
   "metadata": {},
   "outputs": [],
   "source": [
    "# Import dependencies\n",
    "import pandas as pd\n",
    "from sqlalchemy import create_engine\n",
    "from scipy import stats"
   ]
  },
  {
   "cell_type": "code",
   "execution_count": 2,
   "metadata": {},
   "outputs": [
    {
     "output_type": "execute_result",
     "data": {
      "text/plain": "   Are you self-employed?  \\\n0                       0   \n1                       0   \n2                       0   \n3                       1   \n4                       0   \n\n  How many employees does your company or organization have?  \\\n0                                             26-100           \n1                                               6-25           \n2                                               6-25           \n3                                                NaN           \n4                                               6-25           \n\n   Is your employer primarily a tech company/organization?  \\\n0                                                1.0         \n1                                                1.0         \n2                                                1.0         \n3                                                NaN         \n4                                                0.0         \n\n   Is your primary role within your company related to tech/IT?  \\\n0                                                NaN              \n1                                                NaN              \n2                                                NaN              \n3                                                NaN              \n4                                                1.0              \n\n  Does your employer provide mental health benefits as part of healthcare coverage?  \\\n0                    Not eligible for coverage / N/A                                  \n1                                                 No                                  \n2                                                 No                                  \n3                                                NaN                                  \n4                                                Yes                                  \n\n  Do you know the options for mental health care available under your employer-provided coverage?  \\\n0                                                NaN                                                \n1                                                Yes                                                \n2                                                NaN                                                \n3                                                NaN                                                \n4                                                Yes                                                \n\n  Has your employer ever formally discussed mental health (for example, as part of a wellness campaign or other official communication)?  \\\n0                                                 No                                                                                       \n1                                                Yes                                                                                       \n2                                                 No                                                                                       \n3                                                NaN                                                                                       \n4                                                 No                                                                                       \n\n  Does your employer offer resources to learn more about mental health concerns and options for seeking help?  \\\n0                                                 No                                                            \n1                                                Yes                                                            \n2                                                 No                                                            \n3                                                NaN                                                            \n4                                                 No                                                            \n\n  Is your anonymity protected if you choose to take advantage of mental health or substance abuse treatment resources provided by your employer?  \\\n0                                       I don't know                                                                                               \n1                                                Yes                                                                                               \n2                                       I don't know                                                                                               \n3                                                NaN                                                                                               \n4                                                 No                                                                                               \n\n  If a mental health issue prompted you to request a medical leave from work, asking for that leave would be:  \\\n0                                          Very easy                                                            \n1                                      Somewhat easy                                                            \n2                         Neither easy nor difficult                                                            \n3                                                NaN                                                            \n4                         Neither easy nor difficult                                                            \n\n   ...  \\\n0  ...   \n1  ...   \n2  ...   \n3  ...   \n4  ...   \n\n  If you have a mental health issue, do you feel that it interferes with your work when being treated effectively?  \\\n0                               Not applicable to me                                                                 \n1                                             Rarely                                                                 \n2                               Not applicable to me                                                                 \n3                                          Sometimes                                                                 \n4                                          Sometimes                                                                 \n\n  If you have a mental health issue, do you feel that it interferes with your work when NOT being treated effectively?  \\\n0                               Not applicable to me                                                                     \n1                                          Sometimes                                                                     \n2                               Not applicable to me                                                                     \n3                                          Sometimes                                                                     \n4                                          Sometimes                                                                     \n\n  What is your age? What is your gender? What country do you live in?  \\\n0                39                 Male               United Kingdom   \n1                29                 male     United States of America   \n2                38                Male                United Kingdom   \n3                43                 male               United Kingdom   \n4                43               Female     United States of America   \n\n  What US state or territory do you live in?  What country do you work in?  \\\n0                                        NaN                United Kingdom   \n1                                   Illinois      United States of America   \n2                                        NaN                United Kingdom   \n3                                        NaN                United Kingdom   \n4                                   Illinois      United States of America   \n\n  What US state or territory do you work in?  \\\n0                                        NaN   \n1                                   Illinois   \n2                                        NaN   \n3                                        NaN   \n4                                   Illinois   \n\n  Which of the following best describes your work position?  \\\n0                                 Back-end Developer          \n1             Back-end Developer|Front-end Developer          \n2                                 Back-end Developer          \n3                               Supervisor/Team Lead          \n4  Executive Leadership|Supervisor/Team Lead|Dev ...          \n\n  Do you work remotely?  \n0             Sometimes  \n1                 Never  \n2                Always  \n3             Sometimes  \n4             Sometimes  \n\n[5 rows x 63 columns]",
      "text/html": "<div>\n<style scoped>\n    .dataframe tbody tr th:only-of-type {\n        vertical-align: middle;\n    }\n\n    .dataframe tbody tr th {\n        vertical-align: top;\n    }\n\n    .dataframe thead th {\n        text-align: right;\n    }\n</style>\n<table border=\"1\" class=\"dataframe\">\n  <thead>\n    <tr style=\"text-align: right;\">\n      <th></th>\n      <th>Are you self-employed?</th>\n      <th>How many employees does your company or organization have?</th>\n      <th>Is your employer primarily a tech company/organization?</th>\n      <th>Is your primary role within your company related to tech/IT?</th>\n      <th>Does your employer provide mental health benefits as part of healthcare coverage?</th>\n      <th>Do you know the options for mental health care available under your employer-provided coverage?</th>\n      <th>Has your employer ever formally discussed mental health (for example, as part of a wellness campaign or other official communication)?</th>\n      <th>Does your employer offer resources to learn more about mental health concerns and options for seeking help?</th>\n      <th>Is your anonymity protected if you choose to take advantage of mental health or substance abuse treatment resources provided by your employer?</th>\n      <th>If a mental health issue prompted you to request a medical leave from work, asking for that leave would be:</th>\n      <th>...</th>\n      <th>If you have a mental health issue, do you feel that it interferes with your work when being treated effectively?</th>\n      <th>If you have a mental health issue, do you feel that it interferes with your work when NOT being treated effectively?</th>\n      <th>What is your age?</th>\n      <th>What is your gender?</th>\n      <th>What country do you live in?</th>\n      <th>What US state or territory do you live in?</th>\n      <th>What country do you work in?</th>\n      <th>What US state or territory do you work in?</th>\n      <th>Which of the following best describes your work position?</th>\n      <th>Do you work remotely?</th>\n    </tr>\n  </thead>\n  <tbody>\n    <tr>\n      <th>0</th>\n      <td>0</td>\n      <td>26-100</td>\n      <td>1.0</td>\n      <td>NaN</td>\n      <td>Not eligible for coverage / N/A</td>\n      <td>NaN</td>\n      <td>No</td>\n      <td>No</td>\n      <td>I don't know</td>\n      <td>Very easy</td>\n      <td>...</td>\n      <td>Not applicable to me</td>\n      <td>Not applicable to me</td>\n      <td>39</td>\n      <td>Male</td>\n      <td>United Kingdom</td>\n      <td>NaN</td>\n      <td>United Kingdom</td>\n      <td>NaN</td>\n      <td>Back-end Developer</td>\n      <td>Sometimes</td>\n    </tr>\n    <tr>\n      <th>1</th>\n      <td>0</td>\n      <td>6-25</td>\n      <td>1.0</td>\n      <td>NaN</td>\n      <td>No</td>\n      <td>Yes</td>\n      <td>Yes</td>\n      <td>Yes</td>\n      <td>Yes</td>\n      <td>Somewhat easy</td>\n      <td>...</td>\n      <td>Rarely</td>\n      <td>Sometimes</td>\n      <td>29</td>\n      <td>male</td>\n      <td>United States of America</td>\n      <td>Illinois</td>\n      <td>United States of America</td>\n      <td>Illinois</td>\n      <td>Back-end Developer|Front-end Developer</td>\n      <td>Never</td>\n    </tr>\n    <tr>\n      <th>2</th>\n      <td>0</td>\n      <td>6-25</td>\n      <td>1.0</td>\n      <td>NaN</td>\n      <td>No</td>\n      <td>NaN</td>\n      <td>No</td>\n      <td>No</td>\n      <td>I don't know</td>\n      <td>Neither easy nor difficult</td>\n      <td>...</td>\n      <td>Not applicable to me</td>\n      <td>Not applicable to me</td>\n      <td>38</td>\n      <td>Male</td>\n      <td>United Kingdom</td>\n      <td>NaN</td>\n      <td>United Kingdom</td>\n      <td>NaN</td>\n      <td>Back-end Developer</td>\n      <td>Always</td>\n    </tr>\n    <tr>\n      <th>3</th>\n      <td>1</td>\n      <td>NaN</td>\n      <td>NaN</td>\n      <td>NaN</td>\n      <td>NaN</td>\n      <td>NaN</td>\n      <td>NaN</td>\n      <td>NaN</td>\n      <td>NaN</td>\n      <td>NaN</td>\n      <td>...</td>\n      <td>Sometimes</td>\n      <td>Sometimes</td>\n      <td>43</td>\n      <td>male</td>\n      <td>United Kingdom</td>\n      <td>NaN</td>\n      <td>United Kingdom</td>\n      <td>NaN</td>\n      <td>Supervisor/Team Lead</td>\n      <td>Sometimes</td>\n    </tr>\n    <tr>\n      <th>4</th>\n      <td>0</td>\n      <td>6-25</td>\n      <td>0.0</td>\n      <td>1.0</td>\n      <td>Yes</td>\n      <td>Yes</td>\n      <td>No</td>\n      <td>No</td>\n      <td>No</td>\n      <td>Neither easy nor difficult</td>\n      <td>...</td>\n      <td>Sometimes</td>\n      <td>Sometimes</td>\n      <td>43</td>\n      <td>Female</td>\n      <td>United States of America</td>\n      <td>Illinois</td>\n      <td>United States of America</td>\n      <td>Illinois</td>\n      <td>Executive Leadership|Supervisor/Team Lead|Dev ...</td>\n      <td>Sometimes</td>\n    </tr>\n  </tbody>\n</table>\n<p>5 rows × 63 columns</p>\n</div>"
     },
     "metadata": {},
     "execution_count": 2
    }
   ],
   "source": [
    "# Import our mental health dataset and create a dataframe\n",
    "mental_df = pd.read_csv('./Resources/mental-heath-in-tech-2016_20161114.csv')\n",
    "mental_df.head()"
   ]
  },
  {
   "cell_type": "code",
   "execution_count": 3,
   "metadata": {},
   "outputs": [
    {
     "output_type": "execute_result",
     "data": {
      "text/plain": "(1433, 63)"
     },
     "metadata": {},
     "execution_count": 3
    }
   ],
   "source": [
    "# check the number of rows and columns in the dataframe\n",
    "mental_df.shape"
   ]
  },
  {
   "cell_type": "code",
   "execution_count": 4,
   "metadata": {
    "scrolled": false
   },
   "outputs": [
    {
     "output_type": "execute_result",
     "data": {
      "text/plain": "['Is your primary role within your company related to tech/IT?',\n 'Do you have medical coverage (private insurance or state-provided) which includes treatment of \\xa0mental health issues?',\n 'Do you know local or online resources to seek help for a mental health disorder?',\n 'If you have been diagnosed or treated for a mental health disorder, do you ever reveal this to clients or business contacts?',\n 'If you have revealed a mental health issue to a client or business contact, do you believe this has impacted you negatively?',\n 'If you have been diagnosed or treated for a mental health disorder, do you ever reveal this to coworkers or employees?',\n 'If you have revealed a mental health issue to a coworker or employee, do you believe this has impacted you negatively?',\n 'Do you believe your productivity is ever affected by a mental health issue?',\n 'If yes, what percentage of your work time (time performing primary or secondary job functions) is affected by a mental health issue?',\n 'Have your observations of how another individual who discussed a mental health disorder made you less likely to reveal a mental health issue yourself in your current workplace?',\n 'If yes, what condition(s) have you been diagnosed with?',\n 'If maybe, what condition(s) do you believe you have?',\n 'If so, what condition(s) were you diagnosed with?',\n 'What US state or territory do you live in?',\n 'What US state or territory do you work in?']"
     },
     "metadata": {},
     "execution_count": 4
    }
   ],
   "source": [
    "# Check for low response rate columns < 70% response rate\n",
    "low_response_columns = []\n",
    "for column in mental_df.columns:\n",
    "    if ((mental_df[column].count() / 1433) < .7):\n",
    "        low_response_columns.append(column)\n",
    "\n",
    "# display a list of low response columns\n",
    "low_response_columns"
   ]
  },
  {
   "cell_type": "code",
   "execution_count": 5,
   "metadata": {
    "scrolled": true
   },
   "outputs": [
    {
     "output_type": "execute_result",
     "data": {
      "text/plain": "(1433, 48)"
     },
     "metadata": {},
     "execution_count": 5
    }
   ],
   "source": [
    "# drop low response columns\n",
    "mental_df.drop(columns=low_response_columns, inplace=True)\n",
    "\n",
    "# check the new size of the dataframe\n",
    "mental_df.shape"
   ]
  },
  {
   "cell_type": "code",
   "execution_count": 6,
   "metadata": {
    "scrolled": true
   },
   "outputs": [
    {
     "output_type": "execute_result",
     "data": {
      "text/plain": "['Why or why not?',\n 'Why or why not?.1',\n 'Which of the following best describes your work position?']"
     },
     "metadata": {},
     "execution_count": 6
    }
   ],
   "source": [
    "# Check for many distinct answers indicating long for response or irrelavant data\n",
    "many_distinct_columns = []\n",
    "for column in mental_df.columns:\n",
    "    if (mental_df[column].nunique() > 10):\n",
    "        many_distinct_columns.append(column)\n",
    "    \n",
    "\n",
    "many_distinct_columns.remove('What is your age?')\n",
    "many_distinct_columns.remove('What country do you live in?')\n",
    "many_distinct_columns.remove('What country do you work in?')\n",
    "many_distinct_columns.remove('What is your gender?')\n",
    "\n",
    "\n",
    "\n",
    "many_distinct_columns"
   ]
  },
  {
   "cell_type": "code",
   "execution_count": 7,
   "metadata": {},
   "outputs": [
    {
     "output_type": "execute_result",
     "data": {
      "text/plain": "(1433, 45)"
     },
     "metadata": {},
     "execution_count": 7
    }
   ],
   "source": [
    "# drop many distinct answers columns\n",
    "mental_df.drop(columns=many_distinct_columns, inplace=True)\n",
    "\n",
    "# see the new size of the dataframe\n",
    "mental_df.shape"
   ]
  },
  {
   "cell_type": "code",
   "execution_count": 8,
   "metadata": {},
   "outputs": [],
   "source": [
    "# Fix gender data to be consistent\n",
    "mental_df['What is your gender?'] = mental_df['What is your gender?'].replace('male', 'Male')\n",
    "mental_df['What is your gender?'] = mental_df['What is your gender?'].replace('m', 'Male')\n",
    "mental_df['What is your gender?'] = mental_df['What is your gender?'].replace('M', 'Male')\n",
    "mental_df['What is your gender?'] = mental_df['What is your gender?'].replace('f', 'Male')\n",
    "mental_df['What is your gender?'] = mental_df['What is your gender?'].replace('F', 'Female')\n",
    "mental_df['What is your gender?'] = mental_df['What is your gender?'].replace('female', 'Female')"
   ]
  },
  {
   "cell_type": "code",
   "execution_count": 9,
   "metadata": {
    "scrolled": true
   },
   "outputs": [
    {
     "output_type": "execute_result",
     "data": {
      "text/plain": "Male                                                                                                                                                             1047\nFemale                                                                                                                                                            286\nMale                                                                                                                                                               11\nFemale                                                                                                                                                              9\nnon-binary                                                                                                                                                          4\n                                                                                                                                                                 ... \nCis male                                                                                                                                                            1\nfm                                                                                                                                                                  1\nnb masculine                                                                                                                                                        1\nI'm a man why didn't you make this a drop down question. You should of asked sex? And I would of answered yes please. Seriously how much text can this take?        1\nSex is male                                                                                                                                                         1\nName: What is your gender?, Length: 64, dtype: int64"
     },
     "metadata": {},
     "execution_count": 9
    }
   ],
   "source": [
    "# Print out gender counts\n",
    "gender_counts = mental_df['What is your gender?'].value_counts()\n",
    "gender_counts"
   ]
  },
  {
   "cell_type": "code",
   "execution_count": 10,
   "metadata": {},
   "outputs": [],
   "source": [
    "# Determine which values to replace\n",
    "replace_genders = list(gender_counts[gender_counts < 20].index)\n",
    "\n",
    "# Replace in DataFrame\n",
    "for gender in replace_genders:\n",
    "    mental_df['What is your gender?'] = mental_df['What is your gender?'].replace(gender,\"Other\")\n",
    ""
   ]
  },
  {
   "cell_type": "code",
   "execution_count": 11,
   "metadata": {},
   "outputs": [
    {
     "output_type": "execute_result",
     "data": {
      "text/plain": "Male      1047\nFemale     286\nOther       97\nName: What is your gender?, dtype: int64"
     },
     "metadata": {},
     "execution_count": 11
    }
   ],
   "source": [
    "# Print out gender counts\n",
    "gender_counts = mental_df['What is your gender?'].value_counts()\n",
    "gender_counts"
   ]
  },
  {
   "cell_type": "code",
   "execution_count": 12,
   "metadata": {},
   "outputs": [
    {
     "output_type": "execute_result",
     "data": {
      "text/plain": "United States of America    840\nUnited Kingdom              180\nCanada                       78\nGermany                      58\nNetherlands                  48\nAustralia                    35\nSweden                       19\nFrance                       16\nIreland                      15\nBrazil                       10\nSwitzerland                  10\nIndia                         9\nNew Zealand                   9\nRussia                        9\nFinland                       7\nBulgaria                      7\nDenmark                       7\nBelgium                       5\nItaly                         5\nSpain                         4\nRomania                       4\nPoland                        4\nAustria                       4\nSouth Africa                  4\nNorway                        3\nChile                         3\nCzech Republic                3\nPakistan                      3\nIsrael                        2\nAfghanistan                   2\nColombia                      2\nMexico                        2\nEstonia                       2\nLithuania                     2\nBosnia and Herzegovina        2\nJapan                         2\nOther                         2\nIran                          1\nGuatemala                     1\nVietnam                       1\nChina                         1\nTaiwan                        1\nGreece                        1\nBangladesh                    1\nVenezuela                     1\nSlovakia                      1\nCosta Rica                    1\nSerbia                        1\nArgentina                     1\nEcuador                       1\nBrunei                        1\nAlgeria                       1\nHungary                       1\nName: What country do you live in?, dtype: int64"
     },
     "metadata": {},
     "execution_count": 12
    }
   ],
   "source": [
    "# Print out country counts\n",
    "country_counts = mental_df['What country do you live in?'].value_counts()\n",
    "country_counts"
   ]
  },
  {
   "cell_type": "code",
   "execution_count": 13,
   "metadata": {},
   "outputs": [],
   "source": [
    "# Determine which values to replace\n",
    "replace_countries = list(country_counts[country_counts < 100].index)\n",
    "\n",
    "# Replace in DataFrame\n",
    "for country in replace_countries:\n",
    "    mental_df['What country do you live in?'] = mental_df['What country do you live in?'].replace(country,\"Other\")"
   ]
  },
  {
   "cell_type": "code",
   "execution_count": 14,
   "metadata": {},
   "outputs": [
    {
     "output_type": "execute_result",
     "data": {
      "text/plain": "United States of America    840\nOther                       413\nUnited Kingdom              180\nName: What country do you live in?, dtype: int64"
     },
     "metadata": {},
     "execution_count": 14
    }
   ],
   "source": [
    "# Print out country counts\n",
    "country_counts = mental_df['What country do you live in?'].value_counts()\n",
    "country_counts"
   ]
  },
  {
   "cell_type": "code",
   "execution_count": 15,
   "metadata": {},
   "outputs": [
    {
     "output_type": "execute_result",
     "data": {
      "text/plain": "United States of America    851\nUnited Kingdom              183\nCanada                       74\nGermany                      58\nNetherlands                  47\nAustralia                    34\nSweden                       20\nIreland                      15\nFrance                       14\nBrazil                       10\nSwitzerland                  10\nRussia                        9\nNew Zealand                   9\nIndia                         9\nFinland                       7\nBulgaria                      7\nDenmark                       7\nBelgium                       5\nPoland                        4\nAustria                       4\nSouth Africa                  4\nChile                         3\nRomania                       3\nNorway                        3\nSpain                         3\nCzech Republic                3\nItaly                         3\nIsrael                        2\nAfghanistan                   2\nColombia                      2\nMexico                        2\nOther                         2\nBosnia and Herzegovina        2\nPakistan                      2\nEstonia                       2\nIran                          1\nEcuador                       1\nGuatemala                     1\nLithuania                     1\nVietnam                       1\nChina                         1\nJapan                         1\nGreece                        1\nTurkey                        1\nVenezuela                     1\nBangladesh                    1\nSlovakia                      1\nCosta Rica                    1\nSerbia                        1\nArgentina                     1\nUnited Arab Emirates          1\nBrunei                        1\nHungary                       1\nName: What country do you work in?, dtype: int64"
     },
     "metadata": {},
     "execution_count": 15
    }
   ],
   "source": [
    "# Print out country counts\n",
    "country_counts = mental_df['What country do you work in?'].value_counts()\n",
    "country_counts"
   ]
  },
  {
   "cell_type": "code",
   "execution_count": 16,
   "metadata": {},
   "outputs": [],
   "source": [
    "# Determine which values to replace\n",
    "replace_countries = list(country_counts[country_counts < 100].index)\n",
    "\n",
    "# Replace in DataFrame\n",
    "for country in replace_countries:\n",
    "    mental_df['What country do you work in?'] = mental_df['What country do you work in?'].replace(country,\"Other\")"
   ]
  },
  {
   "cell_type": "code",
   "execution_count": 17,
   "metadata": {},
   "outputs": [
    {
     "output_type": "execute_result",
     "data": {
      "text/plain": "United States of America    851\nOther                       399\nUnited Kingdom              183\nName: What country do you work in?, dtype: int64"
     },
     "metadata": {},
     "execution_count": 17
    }
   ],
   "source": [
    "# Print out country counts\n",
    "country_counts = mental_df['What country do you work in?'].value_counts()\n",
    "country_counts"
   ]
  },
  {
   "cell_type": "code",
   "execution_count": 18,
   "metadata": {},
   "outputs": [],
   "source": [
    "# function for comparing two columns with a chi-square-test\n",
    "\n",
    "def chi_square(column):\n",
    "    crosstab = pd.crosstab(mental_df['Have you been diagnosed with a mental health condition by a medical professional?'], mental_df[column])\n",
    "    return stats.chi2_contingency(crosstab)[1]"
   ]
  },
  {
   "cell_type": "code",
   "execution_count": 19,
   "metadata": {},
   "outputs": [
    {
     "output_type": "execute_result",
     "data": {
      "text/plain": "['Are you self-employed?',\n 'How many employees does your company or organization have?',\n 'Is your employer primarily a tech company/organization?',\n 'Has your employer ever formally discussed mental health (for example, as part of a wellness campaign or other official communication)?',\n 'Is your anonymity protected if you choose to take advantage of mental health or substance abuse treatment resources provided by your employer?',\n 'Would you feel comfortable discussing a mental health disorder with your coworkers?',\n 'Would you feel comfortable discussing a mental health disorder with your direct supervisor(s)?',\n 'Did your previous employers provide resources to learn more about mental health issues and how to seek help?',\n 'Do you think that discussing a physical health issue with previous employers would have negative consequences?',\n 'Would you have been willing to discuss a mental health issue with your previous co-workers?',\n 'Would you be willing to bring up a physical health issue with a potential employer in an interview?',\n 'What is your age?',\n 'Do you work remotely?']"
     },
     "metadata": {},
     "execution_count": 19
    }
   ],
   "source": [
    "# run chi-square test and drop non significant columns\n",
    "\n",
    "insignificant_p_columns = []\n",
    "for column in mental_df.columns:\n",
    "    p_value = chi_square(column)\n",
    "    if p_value >= .05:\n",
    "        insignificant_p_columns.append(column)\n",
    "        \n",
    "insignificant_p_columns"
   ]
  },
  {
   "cell_type": "code",
   "execution_count": 20,
   "metadata": {},
   "outputs": [
    {
     "output_type": "execute_result",
     "data": {
      "text/plain": "                                             Question\n0                              Are you self-employed?\n1   How many employees does your company or organi...\n2   Is your employer primarily a tech company/orga...\n3   Does your employer provide mental health benef...\n4   Do you know the options for mental health care...\n5   Has your employer ever formally discussed ment...\n6   Does your employer offer resources to learn mo...\n7   Is your anonymity protected if you choose to t...\n8   If a mental health issue prompted you to reque...\n9   Do you think that discussing a mental health d...\n10  Do you think that discussing a physical health...\n11  Would you feel comfortable discussing a mental...\n12  Would you feel comfortable discussing a mental...\n13  Do you feel that your employer takes mental he...\n14  Have you heard of or observed negative consequ...\n15                    Do you have previous employers?\n16  Have your previous employers provided mental h...\n17  Were you aware of the options for mental healt...\n18  Did your previous employers ever formally disc...\n19  Did your previous employers provide resources ...\n20  Was your anonymity protected if you chose to t...\n21  Do you think that discussing a mental health d...\n22  Do you think that discussing a physical health...\n23  Would you have been willing to discuss a menta...\n24  Would you have been willing to discuss a menta...\n25  Did you feel that your previous employers took...\n26  Did you hear of or observe negative consequenc...\n27  Would you be willing to bring up a physical he...\n28  Would you bring up a mental health issue with ...\n29  Do you feel that being identified as a person ...\n30  Do you think that team members/co-workers woul...\n31  How willing would you be to share with friends...\n32  Have you observed or experienced an unsupporti...\n33    Do you have a family history of mental illness?\n34  Have you had a mental health disorder in the p...\n35    Do you currently have a mental health disorder?\n36  Have you been diagnosed with a mental health c...\n37  Have you ever sought treatment for a mental he...\n38  If you have a mental health issue, do you feel...\n39  If you have a mental health issue, do you feel...\n40                                  What is your age?\n41                               What is your gender?\n42                       What country do you live in?\n43                       What country do you work in?\n44                              Do you work remotely?",
      "text/html": "<div>\n<style scoped>\n    .dataframe tbody tr th:only-of-type {\n        vertical-align: middle;\n    }\n\n    .dataframe tbody tr th {\n        vertical-align: top;\n    }\n\n    .dataframe thead th {\n        text-align: right;\n    }\n</style>\n<table border=\"1\" class=\"dataframe\">\n  <thead>\n    <tr style=\"text-align: right;\">\n      <th></th>\n      <th>Question</th>\n    </tr>\n  </thead>\n  <tbody>\n    <tr>\n      <th>0</th>\n      <td>Are you self-employed?</td>\n    </tr>\n    <tr>\n      <th>1</th>\n      <td>How many employees does your company or organi...</td>\n    </tr>\n    <tr>\n      <th>2</th>\n      <td>Is your employer primarily a tech company/orga...</td>\n    </tr>\n    <tr>\n      <th>3</th>\n      <td>Does your employer provide mental health benef...</td>\n    </tr>\n    <tr>\n      <th>4</th>\n      <td>Do you know the options for mental health care...</td>\n    </tr>\n    <tr>\n      <th>5</th>\n      <td>Has your employer ever formally discussed ment...</td>\n    </tr>\n    <tr>\n      <th>6</th>\n      <td>Does your employer offer resources to learn mo...</td>\n    </tr>\n    <tr>\n      <th>7</th>\n      <td>Is your anonymity protected if you choose to t...</td>\n    </tr>\n    <tr>\n      <th>8</th>\n      <td>If a mental health issue prompted you to reque...</td>\n    </tr>\n    <tr>\n      <th>9</th>\n      <td>Do you think that discussing a mental health d...</td>\n    </tr>\n    <tr>\n      <th>10</th>\n      <td>Do you think that discussing a physical health...</td>\n    </tr>\n    <tr>\n      <th>11</th>\n      <td>Would you feel comfortable discussing a mental...</td>\n    </tr>\n    <tr>\n      <th>12</th>\n      <td>Would you feel comfortable discussing a mental...</td>\n    </tr>\n    <tr>\n      <th>13</th>\n      <td>Do you feel that your employer takes mental he...</td>\n    </tr>\n    <tr>\n      <th>14</th>\n      <td>Have you heard of or observed negative consequ...</td>\n    </tr>\n    <tr>\n      <th>15</th>\n      <td>Do you have previous employers?</td>\n    </tr>\n    <tr>\n      <th>16</th>\n      <td>Have your previous employers provided mental h...</td>\n    </tr>\n    <tr>\n      <th>17</th>\n      <td>Were you aware of the options for mental healt...</td>\n    </tr>\n    <tr>\n      <th>18</th>\n      <td>Did your previous employers ever formally disc...</td>\n    </tr>\n    <tr>\n      <th>19</th>\n      <td>Did your previous employers provide resources ...</td>\n    </tr>\n    <tr>\n      <th>20</th>\n      <td>Was your anonymity protected if you chose to t...</td>\n    </tr>\n    <tr>\n      <th>21</th>\n      <td>Do you think that discussing a mental health d...</td>\n    </tr>\n    <tr>\n      <th>22</th>\n      <td>Do you think that discussing a physical health...</td>\n    </tr>\n    <tr>\n      <th>23</th>\n      <td>Would you have been willing to discuss a menta...</td>\n    </tr>\n    <tr>\n      <th>24</th>\n      <td>Would you have been willing to discuss a menta...</td>\n    </tr>\n    <tr>\n      <th>25</th>\n      <td>Did you feel that your previous employers took...</td>\n    </tr>\n    <tr>\n      <th>26</th>\n      <td>Did you hear of or observe negative consequenc...</td>\n    </tr>\n    <tr>\n      <th>27</th>\n      <td>Would you be willing to bring up a physical he...</td>\n    </tr>\n    <tr>\n      <th>28</th>\n      <td>Would you bring up a mental health issue with ...</td>\n    </tr>\n    <tr>\n      <th>29</th>\n      <td>Do you feel that being identified as a person ...</td>\n    </tr>\n    <tr>\n      <th>30</th>\n      <td>Do you think that team members/co-workers woul...</td>\n    </tr>\n    <tr>\n      <th>31</th>\n      <td>How willing would you be to share with friends...</td>\n    </tr>\n    <tr>\n      <th>32</th>\n      <td>Have you observed or experienced an unsupporti...</td>\n    </tr>\n    <tr>\n      <th>33</th>\n      <td>Do you have a family history of mental illness?</td>\n    </tr>\n    <tr>\n      <th>34</th>\n      <td>Have you had a mental health disorder in the p...</td>\n    </tr>\n    <tr>\n      <th>35</th>\n      <td>Do you currently have a mental health disorder?</td>\n    </tr>\n    <tr>\n      <th>36</th>\n      <td>Have you been diagnosed with a mental health c...</td>\n    </tr>\n    <tr>\n      <th>37</th>\n      <td>Have you ever sought treatment for a mental he...</td>\n    </tr>\n    <tr>\n      <th>38</th>\n      <td>If you have a mental health issue, do you feel...</td>\n    </tr>\n    <tr>\n      <th>39</th>\n      <td>If you have a mental health issue, do you feel...</td>\n    </tr>\n    <tr>\n      <th>40</th>\n      <td>What is your age?</td>\n    </tr>\n    <tr>\n      <th>41</th>\n      <td>What is your gender?</td>\n    </tr>\n    <tr>\n      <th>42</th>\n      <td>What country do you live in?</td>\n    </tr>\n    <tr>\n      <th>43</th>\n      <td>What country do you work in?</td>\n    </tr>\n    <tr>\n      <th>44</th>\n      <td>Do you work remotely?</td>\n    </tr>\n  </tbody>\n</table>\n</div>"
     },
     "metadata": {},
     "execution_count": 20
    }
   ],
   "source": [
    "# build a dataframe of the questions\n",
    "dict = {}\n",
    "count = 0\n",
    "for column in mental_df.columns:\n",
    "    \n",
    "    dict[count] = [column]\n",
    "    count = count + 1\n",
    "    \n",
    "    \n",
    "dict\n",
    "\n",
    "questions_df = pd.DataFrame.from_dict(dict, orient='index', columns=['Question'])\n",
    "questions_df"
   ]
  },
  {
   "cell_type": "code",
   "execution_count": 21,
   "metadata": {
    "scrolled": true
   },
   "outputs": [
    {
     "output_type": "execute_result",
     "data": {
      "text/plain": "      0        1    2                                3              4    5   \\\n0      0   26-100  1.0  Not eligible for coverage / N/A            NaN   No   \n1      0     6-25  1.0                               No            Yes  Yes   \n2      0     6-25  1.0                               No            NaN   No   \n3      1      NaN  NaN                              NaN            NaN  NaN   \n4      0     6-25  0.0                              Yes            Yes   No   \n...   ..      ...  ...                              ...            ...  ...   \n1428   1      NaN  NaN                              NaN            NaN  NaN   \n1429   1      NaN  NaN                              NaN            NaN  NaN   \n1430   0  100-500  1.0                              Yes            Yes  Yes   \n1431   0  100-500  0.0                     I don't know  I am not sure   No   \n1432   0  100-500  1.0                              Yes             No   No   \n\n       6             7                           8      9   ...     35   36  \\\n0      No  I don't know                   Very easy     No  ...     No  Yes   \n1     Yes           Yes               Somewhat easy     No  ...    Yes  Yes   \n2      No  I don't know  Neither easy nor difficult  Maybe  ...     No   No   \n3     NaN           NaN                         NaN    NaN  ...    Yes  Yes   \n4      No            No  Neither easy nor difficult    Yes  ...    Yes  Yes   \n...   ...           ...                         ...    ...  ...    ...  ...   \n1428  NaN           NaN                         NaN    NaN  ...     No   No   \n1429  NaN           NaN                         NaN    NaN  ...     No  Yes   \n1430  Yes  I don't know          Somewhat difficult  Maybe  ...  Maybe  Yes   \n1431  Yes  I don't know          Somewhat difficult  Maybe  ...    Yes  Yes   \n1432   No  I don't know              Very difficult  Maybe  ...    Yes   No   \n\n     37                    38                    39  40      41  \\\n0     0  Not applicable to me  Not applicable to me  39    Male   \n1     1                Rarely             Sometimes  29    Male   \n2     1  Not applicable to me  Not applicable to me  38   Other   \n3     1             Sometimes             Sometimes  43    Male   \n4     1             Sometimes             Sometimes  43  Female   \n...  ..                   ...                   ...  ..     ...   \n1428  1  Not applicable to me  Not applicable to me  34   Other   \n1429  0             Sometimes                 Often  56   Other   \n1430  1                Rarely             Sometimes  52    Male   \n1431  0             Sometimes                 Often  30  Female   \n1432  0  Not applicable to me                 Often  25   Other   \n\n                            42                        43         44  \n0               United Kingdom            United Kingdom  Sometimes  \n1     United States of America  United States of America      Never  \n2               United Kingdom            United Kingdom     Always  \n3               United Kingdom            United Kingdom  Sometimes  \n4     United States of America  United States of America  Sometimes  \n...                        ...                       ...        ...  \n1428  United States of America  United States of America  Sometimes  \n1429  United States of America                     Other  Sometimes  \n1430  United States of America  United States of America  Sometimes  \n1431  United States of America  United States of America  Sometimes  \n1432                     Other                     Other  Sometimes  \n\n[1433 rows x 45 columns]",
      "text/html": "<div>\n<style scoped>\n    .dataframe tbody tr th:only-of-type {\n        vertical-align: middle;\n    }\n\n    .dataframe tbody tr th {\n        vertical-align: top;\n    }\n\n    .dataframe thead th {\n        text-align: right;\n    }\n</style>\n<table border=\"1\" class=\"dataframe\">\n  <thead>\n    <tr style=\"text-align: right;\">\n      <th></th>\n      <th>0</th>\n      <th>1</th>\n      <th>2</th>\n      <th>3</th>\n      <th>4</th>\n      <th>5</th>\n      <th>6</th>\n      <th>7</th>\n      <th>8</th>\n      <th>9</th>\n      <th>...</th>\n      <th>35</th>\n      <th>36</th>\n      <th>37</th>\n      <th>38</th>\n      <th>39</th>\n      <th>40</th>\n      <th>41</th>\n      <th>42</th>\n      <th>43</th>\n      <th>44</th>\n    </tr>\n  </thead>\n  <tbody>\n    <tr>\n      <th>0</th>\n      <td>0</td>\n      <td>26-100</td>\n      <td>1.0</td>\n      <td>Not eligible for coverage / N/A</td>\n      <td>NaN</td>\n      <td>No</td>\n      <td>No</td>\n      <td>I don't know</td>\n      <td>Very easy</td>\n      <td>No</td>\n      <td>...</td>\n      <td>No</td>\n      <td>Yes</td>\n      <td>0</td>\n      <td>Not applicable to me</td>\n      <td>Not applicable to me</td>\n      <td>39</td>\n      <td>Male</td>\n      <td>United Kingdom</td>\n      <td>United Kingdom</td>\n      <td>Sometimes</td>\n    </tr>\n    <tr>\n      <th>1</th>\n      <td>0</td>\n      <td>6-25</td>\n      <td>1.0</td>\n      <td>No</td>\n      <td>Yes</td>\n      <td>Yes</td>\n      <td>Yes</td>\n      <td>Yes</td>\n      <td>Somewhat easy</td>\n      <td>No</td>\n      <td>...</td>\n      <td>Yes</td>\n      <td>Yes</td>\n      <td>1</td>\n      <td>Rarely</td>\n      <td>Sometimes</td>\n      <td>29</td>\n      <td>Male</td>\n      <td>United States of America</td>\n      <td>United States of America</td>\n      <td>Never</td>\n    </tr>\n    <tr>\n      <th>2</th>\n      <td>0</td>\n      <td>6-25</td>\n      <td>1.0</td>\n      <td>No</td>\n      <td>NaN</td>\n      <td>No</td>\n      <td>No</td>\n      <td>I don't know</td>\n      <td>Neither easy nor difficult</td>\n      <td>Maybe</td>\n      <td>...</td>\n      <td>No</td>\n      <td>No</td>\n      <td>1</td>\n      <td>Not applicable to me</td>\n      <td>Not applicable to me</td>\n      <td>38</td>\n      <td>Other</td>\n      <td>United Kingdom</td>\n      <td>United Kingdom</td>\n      <td>Always</td>\n    </tr>\n    <tr>\n      <th>3</th>\n      <td>1</td>\n      <td>NaN</td>\n      <td>NaN</td>\n      <td>NaN</td>\n      <td>NaN</td>\n      <td>NaN</td>\n      <td>NaN</td>\n      <td>NaN</td>\n      <td>NaN</td>\n      <td>NaN</td>\n      <td>...</td>\n      <td>Yes</td>\n      <td>Yes</td>\n      <td>1</td>\n      <td>Sometimes</td>\n      <td>Sometimes</td>\n      <td>43</td>\n      <td>Male</td>\n      <td>United Kingdom</td>\n      <td>United Kingdom</td>\n      <td>Sometimes</td>\n    </tr>\n    <tr>\n      <th>4</th>\n      <td>0</td>\n      <td>6-25</td>\n      <td>0.0</td>\n      <td>Yes</td>\n      <td>Yes</td>\n      <td>No</td>\n      <td>No</td>\n      <td>No</td>\n      <td>Neither easy nor difficult</td>\n      <td>Yes</td>\n      <td>...</td>\n      <td>Yes</td>\n      <td>Yes</td>\n      <td>1</td>\n      <td>Sometimes</td>\n      <td>Sometimes</td>\n      <td>43</td>\n      <td>Female</td>\n      <td>United States of America</td>\n      <td>United States of America</td>\n      <td>Sometimes</td>\n    </tr>\n    <tr>\n      <th>...</th>\n      <td>...</td>\n      <td>...</td>\n      <td>...</td>\n      <td>...</td>\n      <td>...</td>\n      <td>...</td>\n      <td>...</td>\n      <td>...</td>\n      <td>...</td>\n      <td>...</td>\n      <td>...</td>\n      <td>...</td>\n      <td>...</td>\n      <td>...</td>\n      <td>...</td>\n      <td>...</td>\n      <td>...</td>\n      <td>...</td>\n      <td>...</td>\n      <td>...</td>\n      <td>...</td>\n    </tr>\n    <tr>\n      <th>1428</th>\n      <td>1</td>\n      <td>NaN</td>\n      <td>NaN</td>\n      <td>NaN</td>\n      <td>NaN</td>\n      <td>NaN</td>\n      <td>NaN</td>\n      <td>NaN</td>\n      <td>NaN</td>\n      <td>NaN</td>\n      <td>...</td>\n      <td>No</td>\n      <td>No</td>\n      <td>1</td>\n      <td>Not applicable to me</td>\n      <td>Not applicable to me</td>\n      <td>34</td>\n      <td>Other</td>\n      <td>United States of America</td>\n      <td>United States of America</td>\n      <td>Sometimes</td>\n    </tr>\n    <tr>\n      <th>1429</th>\n      <td>1</td>\n      <td>NaN</td>\n      <td>NaN</td>\n      <td>NaN</td>\n      <td>NaN</td>\n      <td>NaN</td>\n      <td>NaN</td>\n      <td>NaN</td>\n      <td>NaN</td>\n      <td>NaN</td>\n      <td>...</td>\n      <td>No</td>\n      <td>Yes</td>\n      <td>0</td>\n      <td>Sometimes</td>\n      <td>Often</td>\n      <td>56</td>\n      <td>Other</td>\n      <td>United States of America</td>\n      <td>Other</td>\n      <td>Sometimes</td>\n    </tr>\n    <tr>\n      <th>1430</th>\n      <td>0</td>\n      <td>100-500</td>\n      <td>1.0</td>\n      <td>Yes</td>\n      <td>Yes</td>\n      <td>Yes</td>\n      <td>Yes</td>\n      <td>I don't know</td>\n      <td>Somewhat difficult</td>\n      <td>Maybe</td>\n      <td>...</td>\n      <td>Maybe</td>\n      <td>Yes</td>\n      <td>1</td>\n      <td>Rarely</td>\n      <td>Sometimes</td>\n      <td>52</td>\n      <td>Male</td>\n      <td>United States of America</td>\n      <td>United States of America</td>\n      <td>Sometimes</td>\n    </tr>\n    <tr>\n      <th>1431</th>\n      <td>0</td>\n      <td>100-500</td>\n      <td>0.0</td>\n      <td>I don't know</td>\n      <td>I am not sure</td>\n      <td>No</td>\n      <td>Yes</td>\n      <td>I don't know</td>\n      <td>Somewhat difficult</td>\n      <td>Maybe</td>\n      <td>...</td>\n      <td>Yes</td>\n      <td>Yes</td>\n      <td>0</td>\n      <td>Sometimes</td>\n      <td>Often</td>\n      <td>30</td>\n      <td>Female</td>\n      <td>United States of America</td>\n      <td>United States of America</td>\n      <td>Sometimes</td>\n    </tr>\n    <tr>\n      <th>1432</th>\n      <td>0</td>\n      <td>100-500</td>\n      <td>1.0</td>\n      <td>Yes</td>\n      <td>No</td>\n      <td>No</td>\n      <td>No</td>\n      <td>I don't know</td>\n      <td>Very difficult</td>\n      <td>Maybe</td>\n      <td>...</td>\n      <td>Yes</td>\n      <td>No</td>\n      <td>0</td>\n      <td>Not applicable to me</td>\n      <td>Often</td>\n      <td>25</td>\n      <td>Other</td>\n      <td>Other</td>\n      <td>Other</td>\n      <td>Sometimes</td>\n    </tr>\n  </tbody>\n</table>\n<p>1433 rows × 45 columns</p>\n</div>"
     },
     "metadata": {},
     "execution_count": 21
    }
   ],
   "source": [
    "# rename the columns in the dataframe to numbers\n",
    "column_rename = {}\n",
    "count = 0\n",
    "for column in mental_df.columns:\n",
    "    \n",
    "    column_rename[column] = count\n",
    "    count = count + 1\n",
    "    \n",
    "    \n",
    "column_rename\n",
    "\n",
    "renamed_df = mental_df.rename(columns=column_rename)\n",
    "renamed_df"
   ]
  },
  {
   "cell_type": "code",
   "execution_count": 22,
   "metadata": {},
   "outputs": [
    {
     "output_type": "execute_result",
     "data": {
      "text/plain": "(861, 45)"
     },
     "metadata": {},
     "execution_count": 22
    }
   ],
   "source": [
    "# Drop NA values in dataframe\n",
    "renamed_df.dropna(inplace=True)\n",
    "renamed_df.shape"
   ]
  },
  {
   "cell_type": "code",
   "execution_count": 23,
   "metadata": {},
   "outputs": [],
   "source": [
    "# store data in database\n",
    "engine = create_engine('sqlite:///mental_health.db', echo=False)\n",
    "renamed_df.to_sql('pre_encoded_insignificant', con=engine, if_exists='replace')\n",
    "questions_df.to_sql('pre_encoded_questions_insignificant', con=engine, if_exists='replace')\n",
    "#engine.execute(\"SELECT * FROM pre_encoded\").fetchall()"
   ]
  },
  {
   "cell_type": "code",
   "execution_count": 24,
   "metadata": {},
   "outputs": [
    {
     "output_type": "execute_result",
     "data": {
      "text/plain": "(1433, 45)"
     },
     "metadata": {},
     "execution_count": 24
    }
   ],
   "source": [
    "mental_df.shape"
   ]
  },
  {
   "cell_type": "code",
   "execution_count": 25,
   "metadata": {},
   "outputs": [
    {
     "output_type": "execute_result",
     "data": {
      "text/plain": "(1433, 32)"
     },
     "metadata": {},
     "execution_count": 25
    }
   ],
   "source": [
    "# drop insignificant p value columns\n",
    "mental_df.drop(columns=insignificant_p_columns, inplace=True)\n",
    "mental_df.shape"
   ]
  },
  {
   "cell_type": "code",
   "execution_count": 26,
   "metadata": {
    "scrolled": false
   },
   "outputs": [
    {
     "output_type": "execute_result",
     "data": {
      "text/plain": "           Yes                                  \n...                                                 ...                                  \n1428                                                NaN                                  \n1429                                                NaN                                  \n1430                                                Yes                                  \n1431                                       I don't know                                  \n1432                                                Yes                                  \n\n     Do you know the options for mental health care available under your employer-provided coverage?  \\\n0                                                   NaN                                                \n1                                                   Yes                                                \n2                                                   NaN                                                \n3                                                   NaN                                                \n4                                                   Yes                                                \n...                                                 ...                                                \n1428                                                NaN                                                \n1429                                                NaN                                                \n1430                                                Yes                                                \n1431                                      I am not sure                                                \n1432                                                 No                                                \n\n     Does your employer offer resources to learn more about mental health concerns and options for seeking help?  \\\n0                                                    No                                                            \n1                                                   Yes                                                            \n2                                                    No                                                            \n3                                                   NaN                                                            \n4                                                    No                                                            \n...                                                 ...                                                            \n1428                                                NaN                                                            \n1429                                                NaN                                                            \n1430                                                Yes                                                            \n1431                                                Yes                                                            \n1432                                                 No                                                            \n\n     If a mental health issue prompted you to request a medical leave from work, asking for that leave would be:  \\\n0                                             Very easy                                                            \n1                                         Somewhat easy                                                            \n2                            Neither easy nor difficult                                                            \n3                                                   NaN                                                            \n4                            Neither easy nor difficult                                                            \n...                                                 ...                                                            \n1428                                                NaN                                                            \n1429                                                NaN                                                            \n1430                                 Somewhat difficult                                                            \n1431                                 Somewhat difficult                                                            \n1432                                     Very difficult                                                            \n\n     Do you think that discussing a mental health disorder with your employer would have negative consequences?  \\\n0                                                    No                                                           \n1                                                    No                                                           \n2                                                 Maybe                                                           \n3                                                   NaN                                                           \n4                                                   Yes                                                           \n...                                                 ...                                                           \n1428                                                NaN                                                           \n1429                                                NaN                                                           \n1430                                              Maybe                                                           \n1431                                              Maybe                                                           \n1432                                              Maybe                                                           \n\n     Do you think that discussing a physical health issue with your employer would have negative consequences?  \\\n0                                                    No                                                          \n1                                                    No                                                          \n2                                                    No                                                          \n3                                                   NaN                                                          \n4                                                 Maybe                                                          \n...                                                 ...                                                          \n1428                                                NaN                                                          \n1429                                                NaN                                                          \n1430                                              Maybe                                                          \n1431                                                 No                                                          \n1432                                                 No                                                          \n\n     Do you feel that your employer takes mental health as seriously as physical health?  \\\n0                                          I don't know                                    \n1                                                   Yes                                    \n2                                          I don't know                                    \n3                                                   NaN                                    \n4                                                    No                                    \n...                                                 ...                                    \n1428                                                NaN                                    \n1429                                                NaN                                    \n1430                                       I don't know                                    \n1431                                                 No                                    \n1432                                                 No                                    \n\n     Have you heard of or observed negative consequences for co-workers who have been open about mental health issues in your workplace?  \\\n0                                                    No                                                                                    \n1                                                    No                                                                                    \n2                                                    No                                                                                    \n3                                                   NaN                                                                                    \n4                                                    No                                                                                    \n...                                                 ...                                                                                    \n1428                                                NaN                                                                                    \n1429                                                NaN                                                                                    \n1430                                                Yes                                                                                    \n1431                                                 No                                                                                    \n1432                                                 No                                                                                    \n\n      Do you have previous employers?  \\\n0                                   1   \n1                                   1   \n2                                   1   \n3                                   1   \n4                                   1   \n...                               ...   \n1428                                1   \n1429                                0   \n1430                                1   \n1431                                1   \n1432                                0   \n\n     Have your previous employers provided mental health benefits?  ...  \\\n0                                          No, none did             ...   \n1                                     Yes, they all did             ...   \n2                                          No, none did             ...   \n3                                              Some did             ...   \n4                                          I don't know             ...   \n...                                                 ...             ...   \n1428                                  Yes, they all did             ...   \n1429                                                NaN             ...   \n1430                                           Some did             ...   \n1431                                       No, none did             ...   \n1432                                                NaN             ...   \n\n     Do you have a family history of mental illness?  \\\n0                                                 No   \n1                                                Yes   \n2                                                 No   \n3                                                 No   \n4                                                Yes   \n...                                              ...   \n1428                                             Yes   \n1429                                             Yes   \n1430                                             Yes   \n1431                                             Yes   \n1432                                    I don't know   \n\n     Have you had a mental health disorder in the past?  \\\n0                                                   Yes   \n1                                                   Yes   \n2                                                 Maybe   \n3                                                   Yes   \n4                                                   Yes   \n...                                                 ...   \n1428                                                 No   \n1429                                                 No   \n1430                                                Yes   \n1431                                              Maybe   \n1432                                                Yes   \n\n     Do you currently have a mental health disorder?  \\\n0                                                 No   \n1                                                Yes   \n2                                                 No   \n3                                                Yes   \n4                                                Yes   \n...                                              ...   \n1428                                              No   \n1429                                              No   \n1430                                           Maybe   \n1431                                             Yes   \n1432                                             Yes   \n\n     Have you been diagnosed with a mental health condition by a medical professional?  \\\n0                                                   Yes                                  \n1                                                   Yes                                  \n2                                                    No                                  \n3                                                   Yes                                  \n4                                                   Yes                                  \n...                                                 ...                                  \n1428                                                 No                                  \n1429                                                Yes                                  \n1430                                                Yes                                  \n1431                                                Yes                                  \n1432                                                 No                                  \n\n     Have you ever sought treatment for a mental health issue from a mental health professional?  \\\n0                                                     0                                            \n1                                                     1                                            \n2                                                     1                                            \n3                                                     1                                            \n4                                                     1                                            \n...                                                 ...                                            \n1428                                                  1                                            \n1429                                                  0                                            \n1430                                                  1                                            \n1431                                                  0                                            \n1432                                                  0                                            \n\n     If you have a mental health issue, do you feel that it interferes with your work when being treated effectively?  \\\n0                                  Not applicable to me                                                                 \n1                                                Rarely                                                                 \n2                                  Not applicable to me                                                                 \n3                                             Sometimes                                                                 \n4                                             Sometimes                                                                 \n...                                                 ...                                                                 \n1428                               Not applicable to me                                                                 \n1429                                          Sometimes                                                                 \n1430                                             Rarely                                                                 \n1431                                          Sometimes                                                                 \n1432                               Not applicable to me                                                                 \n\n     If you have a mental health issue, do you feel that it interferes with your work when NOT being treated effectively?  \\\n0                                  Not applicable to me                                                                     \n1                                             Sometimes                                                                     \n2                                  Not applicable to me                                                                     \n3                                             Sometimes                                                                     \n4                                             Sometimes                                                                     \n...                                                 ...                                                                     \n1428                               Not applicable to me                                                                     \n1429                                              Often                                                                     \n1430                                          Sometimes                                                                     \n1431                                              Often                                                                     \n1432                                              Often                                                                     \n\n     What is your gender? What country do you live in?  \\\n0                    Male               United Kingdom   \n1                    Male     United States of America   \n2                   Other               United Kingdom   \n3                    Male               United Kingdom   \n4                  Female     United States of America   \n...                   ...                          ...   \n1428                Other     United States of America   \n1429                Other     United States of America   \n1430                 Male     United States of America   \n1431               Female     United States of America   \n1432                Other                        Other   \n\n     What country do you work in?  \n0                  United Kingdom  \n1        United States of America  \n2                  United Kingdom  \n3                  United Kingdom  \n4        United States of America  \n...                           ...  \n1428     United States of America  \n1429                        Other  \n1430     United States of America  \n1431     United States of America  \n1432                        Other  \n\n[1433 rows x 32 columns]",
      "text/html": "<div>\n<style scoped>\n    .dataframe tbody tr th:only-of-type {\n        vertical-align: middle;\n    }\n\n    .dataframe tbody tr th {\n        vertical-align: top;\n    }\n\n    .dataframe thead th {\n        text-align: right;\n    }\n</style>\n<table border=\"1\" class=\"dataframe\">\n  <thead>\n    <tr style=\"text-align: right;\">\n      <th></th>\n      <th>Does your employer provide mental health benefits as part of healthcare coverage?</th>\n      <th>Do you know the options for mental health care available under your employer-provided coverage?</th>\n      <th>Does your employer offer resources to learn more about mental health concerns and options for seeking help?</th>\n      <th>If a mental health issue prompted you to request a medical leave from work, asking for that leave would be:</th>\n      <th>Do you think that discussing a mental health disorder with your employer would have negative consequences?</th>\n      <th>Do you think that discussing a physical health issue with your employer would have negative consequences?</th>\n      <th>Do you feel that your employer takes mental health as seriously as physical health?</th>\n      <th>Have you heard of or observed negative consequences for co-workers who have been open about mental health issues in your workplace?</th>\n      <th>Do you have previous employers?</th>\n      <th>Have your previous employers provided mental health benefits?</th>\n      <th>...</th>\n      <th>Do you have a family history of mental illness?</th>\n      <th>Have you had a mental health disorder in the past?</th>\n      <th>Do you currently have a mental health disorder?</th>\n      <th>Have you been diagnosed with a mental health condition by a medical professional?</th>\n      <th>Have you ever sought treatment for a mental health issue from a mental health professional?</th>\n      <th>If you have a mental health issue, do you feel that it interferes with your work when being treated effectively?</th>\n      <th>If you have a mental health issue, do you feel that it interferes with your work when NOT being treated effectively?</th>\n      <th>What is your gender?</th>\n      <th>What country do you live in?</th>\n      <th>What country do you work in?</th>\n    </tr>\n  </thead>\n  <tbody>\n    <tr>\n      <th>0</th>\n      <td>Not eligible for coverage / N/A</td>\n      <td>NaN</td>\n      <td>No</td>\n      <td>Very easy</td>\n      <td>No</td>\n      <td>No</td>\n      <td>I don't know</td>\n      <td>No</td>\n      <td>1</td>\n      <td>No, none did</td>\n      <td>...</td>\n      <td>No</td>\n      <td>Yes</td>\n      <td>No</td>\n      <td>Yes</td>\n      <td>0</td>\n      <td>Not applicable to me</td>\n      <td>Not applicable to me</td>\n      <td>Male</td>\n      <td>United Kingdom</td>\n      <td>United Kingdom</td>\n    </tr>\n    <tr>\n      <th>1</th>\n      <td>No</td>\n      <td>Yes</td>\n      <td>Yes</td>\n      <td>Somewhat easy</td>\n      <td>No</td>\n      <td>No</td>\n      <td>Yes</td>\n      <td>No</td>\n      <td>1</td>\n      <td>Yes, they all did</td>\n      <td>...</td>\n      <td>Yes</td>\n      <td>Yes</td>\n      <td>Yes</td>\n      <td>Yes</td>\n      <td>1</td>\n      <td>Rarely</td>\n      <td>Sometimes</td>\n      <td>Male</td>\n      <td>United States of America</td>\n      <td>United States of America</td>\n    </tr>\n    <tr>\n      <th>2</th>\n      <td>No</td>\n      <td>NaN</td>\n      <td>No</td>\n      <td>Neither easy nor difficult</td>\n      <td>Maybe</td>\n      <td>No</td>\n      <td>I don't know</td>\n      <td>No</td>\n      <td>1</td>\n      <td>No, none did</td>\n      <td>...</td>\n      <td>No</td>\n      <td>Maybe</td>\n      <td>No</td>\n      <td>No</td>\n      <td>1</td>\n      <td>Not applicable to me</td>\n      <td>Not applicable to me</td>\n      <td>Other</td>\n      <td>United Kingdom</td>\n      <td>United Kingdom</td>\n    </tr>\n    <tr>\n      <th>3</th>\n      <td>NaN</td>\n      <td>NaN</td>\n      <td>NaN</td>\n      <td>NaN</td>\n      <td>NaN</td>\n      <td>NaN</td>\n      <td>NaN</td>\n      <td>NaN</td>\n      <td>1</td>\n      <td>Some did</td>\n      <td>...</td>\n      <td>No</td>\n      <td>Yes</td>\n      <td>Yes</td>\n      <td>Yes</td>\n      <td>1</td>\n      <td>Sometimes</td>\n      <td>Sometimes</td>\n      <td>Male</td>\n      <td>United Kingdom</td>\n      <td>United Kingdom</td>\n    </tr>\n    <tr>\n      <th>4</th>\n      <td>Yes</td>\n      <td>Yes</td>\n      <td>No</td>\n      <td>Neither easy nor difficult</td>\n      <td>Yes</td>\n      <td>Maybe</td>\n      <td>No</td>\n      <td>No</td>\n      <td>1</td>\n      <td>I don't know</td>\n      <td>...</td>\n      <td>Yes</td>\n      <td>Yes</td>\n      <td>Yes</td>\n      <td>Yes</td>\n      <td>1</td>\n      <td>Sometimes</td>\n      <td>Sometimes</td>\n      <td>Female</td>\n      <td>United States of America</td>\n      <td>United States of America</td>\n    </tr>\n    <tr>\n      <th>...</th>\n      <td>...</td>\n      <td>...</td>\n      <td>...</td>\n      <td>...</td>\n      <td>...</td>\n      <td>...</td>\n      <td>...</td>\n      <td>...</td>\n      <td>...</td>\n      <td>...</td>\n      <td>...</td>\n      <td>...</td>\n      <td>...</td>\n      <td>...</td>\n      <td>...</td>\n      <td>...</td>\n      <td>...</td>\n      <td>...</td>\n      <td>...</td>\n      <td>...</td>\n      <td>...</td>\n    </tr>\n    <tr>\n      <th>1428</th>\n      <td>NaN</td>\n      <td>NaN</td>\n      <td>NaN</td>\n      <td>NaN</td>\n      <td>NaN</td>\n      <td>NaN</td>\n      <td>NaN</td>\n      <td>NaN</td>\n      <td>1</td>\n      <td>Yes, they all did</td>\n      <td>...</td>\n      <td>Yes</td>\n      <td>No</td>\n      <td>No</td>\n      <td>No</td>\n      <td>1</td>\n      <td>Not applicable to me</td>\n      <td>Not applicable to me</td>\n      <td>Other</td>\n      <td>United States of America</td>\n      <td>United States of America</td>\n    </tr>\n    <tr>\n      <th>1429</th>\n      <td>NaN</td>\n      <td>NaN</td>\n      <td>NaN</td>\n      <td>NaN</td>\n      <td>NaN</td>\n      <td>NaN</td>\n      <td>NaN</td>\n      <td>NaN</td>\n      <td>0</td>\n      <td>NaN</td>\n      <td>...</td>\n      <td>Yes</td>\n      <td>No</td>\n      <td>No</td>\n      <td>Yes</td>\n      <td>0</td>\n      <td>Sometimes</td>\n      <td>Often</td>\n      <td>Other</td>\n      <td>United States of America</td>\n      <td>Other</td>\n    </tr>\n    <tr>\n      <th>1430</th>\n      <td>Yes</td>\n      <td>Yes</td>\n      <td>Yes</td>\n      <td>Somewhat difficult</td>\n      <td>Maybe</td>\n      <td>Maybe</td>\n      <td>I don't know</td>\n      <td>Yes</td>\n      <td>1</td>\n      <td>Some did</td>\n      <td>...</td>\n      <td>Yes</td>\n      <td>Yes</td>\n      <td>Maybe</td>\n      <td>Yes</td>\n      <td>1</td>\n      <td>Rarely</td>\n      <td>Sometimes</td>\n      <td>Male</td>\n      <td>United States of America</td>\n      <td>United States of America</td>\n    </tr>\n    <tr>\n      <th>1431</th>\n      <td>I don't know</td>\n      <td>I am not sure</td>\n      <td>Yes</td>\n      <td>Somewhat difficult</td>\n      <td>Maybe</td>\n      <td>No</td>\n      <td>No</td>\n      <td>No</td>\n      <td>1</td>\n      <td>No, none did</td>\n      <td>...</td>\n      <td>Yes</td>\n      <td>Maybe</td>\n      <td>Yes</td>\n      <td>Yes</td>\n      <td>0</td>\n      <td>Sometimes</td>\n      <td>Often</td>\n      <td>Female</td>\n      <td>United States of America</td>\n      <td>United States of America</td>\n    </tr>\n    <tr>\n      <th>1432</th>\n      <td>Yes</td>\n      <td>No</td>\n      <td>No</td>\n      <td>Very difficult</td>\n      <td>Maybe</td>\n      <td>No</td>\n      <td>No</td>\n      <td>No</td>\n      <td>0</td>\n      <td>NaN</td>\n      <td>...</td>\n      <td>I don't know</td>\n      <td>Yes</td>\n      <td>Yes</td>\n      <td>No</td>\n      <td>0</td>\n      <td>Not applicable to me</td>\n      <td>Often</td>\n      <td>Other</td>\n      <td>Other</td>\n      <td>Other</td>\n    </tr>\n  </tbody>\n</table>\n<p>1433 rows × 32 columns</p>\n</div>"
     },
     "metadata": {},
     "execution_count": 26
    }
   ],
   "source": [
    "# View the dataframe\n",
    "mental_df"
   ]
  },
  {
   "cell_type": "code",
   "execution_count": 27,
   "metadata": {},
   "outputs": [],
   "source": [
    "# Drop NA values in dataframe\n",
    "mental_df.dropna(inplace=True)"
   ]
  },
  {
   "cell_type": "code",
   "execution_count": 28,
   "metadata": {},
   "outputs": [
    {
     "output_type": "execute_result",
     "data": {
      "text/plain": "(861, 32)"
     },
     "metadata": {},
     "execution_count": 28
    }
   ],
   "source": [
    "# check the size of the dataframe\n",
    "mental_df.shape"
   ]
  },
  {
   "cell_type": "code",
   "execution_count": 29,
   "metadata": {},
   "outputs": [],
   "source": [
    "# export to tab seperated file\n",
    "mental_df.to_csv('./Resources/cleaned_data.tsv', sep='\\t', index=False)"
   ]
  },
  {
   "cell_type": "code",
   "execution_count": null,
   "metadata": {},
   "outputs": [],
   "source": []
  }
 ],
 "metadata": {
  "kernelspec": {
   "display_name": "PythonData",
   "language": "python",
   "name": "pythondata"
  },
  "language_info": {
   "codemirror_mode": {
    "name": "ipython",
    "version": 3
   },
   "file_extension": ".py",
   "mimetype": "text/x-python",
   "name": "python",
   "nbconvert_exporter": "python",
   "pygments_lexer": "ipython3",
   "version": "3.7.6-final"
  }
 },
 "nbformat": 4,
 "nbformat_minor": 2
}